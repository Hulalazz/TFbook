{
 "cells": [
  {
   "cell_type": "code",
   "execution_count": 4,
   "metadata": {
    "collapsed": false
   },
   "outputs": [
    {
     "name": "stdout",
     "output_type": "stream",
     "text": [
      "/home/wjj/TFbook/chapter5/models-master/tutorials/rnn/ptb\n"
     ]
    }
   ],
   "source": [
    "cd ../chapter5/models-master/tutorials/rnn/ptb"
   ]
  },
  {
   "cell_type": "code",
   "execution_count": 5,
   "metadata": {
    "collapsed": true
   },
   "outputs": [],
   "source": [
    "import time\n",
    "import numpy as np\n",
    "import tensorflow as tf\n",
    "import reader"
   ]
  },
  {
   "cell_type": "code",
   "execution_count": 6,
   "metadata": {
    "collapsed": true
   },
   "outputs": [],
   "source": [
    "class PTBInput(object):\n",
    "    \n",
    "    def __init__(self,config,data,name=None):\n",
    "        self.batch_size = batch_size = config.batch_size    #从config中读取参数存到本地变量\n",
    "        self.num_steps = num_steps = config.num_steps\n",
    "        self.epoch_size = (len(data) // batch_size - 1) // num_steps\n",
    "        self.input_data, self.targets = reader.ptb_producer(data,batch_size,num_steps,name=name)"
   ]
  },
  {
   "cell_type": "code",
   "execution_count": 3,
   "metadata": {
    "collapsed": true
   },
   "outputs": [],
   "source": [
    "class PTBModel(object):\n",
    "    def __init__(self,is_training,config,input_):\n",
    "        self._input = input_\n",
    "        \n",
    "        batch_size = input_.batch_size    #从input_中读取参数存到本地变量\n",
    "        num_steps = input_.num_steps\n",
    "        size = config.hidden_size    #从config中读取参数存到本地变量，隐含节点个数\n",
    "        vocab_size = config.vocab_size\n",
    "    def lstm_cell():    #使用tf.contrib.rnn.BasicLSTMCell函数设置默认的LSTM单元\n",
    "        return tf.contrib.rnn.BasicLSTMCell(size,forget_bias=0.0,state_is_tuple=True)    #size是隐含节点个数，forgets_bias是forget gate的bias，\n",
    "    attn_cell = lstm_cell\n",
    "    if is_training and config.keepprob < 1:    #如果是在训练状态且keepprob<1则在前面的lstm_cell之后接一个Dropout层\n",
    "        def attn_cell():    #使用tf.contrib.rnn.DropoutWrapper函数设置一个dropout层\n",
    "            return tf.contrib.rnn.DropoutWrapper(lstm_cell(),output_keep_prob=config.keep_prob)\n",
    "    cell = tf.contrib.rnn.MultiRNNCell([attn_cell() for _ in range(config.num_layers)],state_is_tuple=True)#用tf.contrib.rnn.MultiRNNCell函数堆叠前面构造的lstm_cell\n",
    "    \n",
    "    self._initial_state = cell.zero_state(batch_size, tf.float32)    #设置LSTM单元的初始化状态为0\n",
    "    \n",
    "    with tf.device(\"/\")"
   ]
  },
  {
   "cell_type": "code",
   "execution_count": null,
   "metadata": {
    "collapsed": true
   },
   "outputs": [],
   "source": []
  }
 ],
 "metadata": {
  "kernelspec": {
   "display_name": "Python 3",
   "language": "python",
   "name": "python3"
  },
  "language_info": {
   "codemirror_mode": {
    "name": "ipython",
    "version": 3
   },
   "file_extension": ".py",
   "mimetype": "text/x-python",
   "name": "python",
   "nbconvert_exporter": "python",
   "pygments_lexer": "ipython3",
   "version": "3.6.0"
  }
 },
 "nbformat": 4,
 "nbformat_minor": 2
}
